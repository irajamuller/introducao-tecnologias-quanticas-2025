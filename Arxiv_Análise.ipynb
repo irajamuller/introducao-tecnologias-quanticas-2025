{
  "nbformat": 4,
  "nbformat_minor": 0,
  "metadata": {
    "colab": {
      "provenance": [],
      "authorship_tag": "ABX9TyMth+ThCaRsRfKJa9SgQkVB",
      "include_colab_link": true
    },
    "kernelspec": {
      "name": "python3",
      "display_name": "Python 3"
    },
    "language_info": {
      "name": "python"
    }
  },
  "cells": [
    {
      "cell_type": "markdown",
      "metadata": {
        "id": "view-in-github",
        "colab_type": "text"
      },
      "source": [
        "<a href=\"https://colab.research.google.com/github/irajamuller/introducao-tecnologias-quanticas-2025/blob/main/Arxiv_An%C3%A1lise.ipynb\" target=\"_parent\"><img src=\"https://colab.research.google.com/assets/colab-badge.svg\" alt=\"Open In Colab\"/></a>"
      ]
    },
    {
      "cell_type": "code",
      "execution_count": null,
      "metadata": {
        "id": "eGf1NYdYlbrL"
      },
      "outputs": [],
      "source": [
        "import json\n",
        "import pandas as pd\n",
        "import requests\n",
        "\n",
        "url = 'https://raw.githubusercontent.com/irajamuller/introducao-tecnologias-quanticas-2025/refs/heads/main/artigos_arxiv_quantum_computing.json'\n",
        "\n",
        "response = requests.get(url)\n",
        "response.raise_for_status()\n",
        "\n",
        "data = response.json()\n",
        "# Dataset artigo -> linha\n",
        "df = pd.json_normalize(data)\n",
        "df = df[~((df['ano'] == 2021) & (df['ano'] != 'N/A'))]"
      ]
    },
    {
      "cell_type": "code",
      "source": [
        "# Total de artigos\n",
        "len(df)"
      ],
      "metadata": {
        "colab": {
          "base_uri": "https://localhost:8080/"
        },
        "id": "HwpR53iow2qG",
        "outputId": "53808312-4bdf-4965-fd78-e2fe8aee68d8"
      },
      "execution_count": null,
      "outputs": [
        {
          "output_type": "execute_result",
          "data": {
            "text/plain": [
              "9704"
            ]
          },
          "metadata": {},
          "execution_count": 50
        }
      ]
    },
    {
      "cell_type": "code",
      "source": [
        "df.info()"
      ],
      "metadata": {
        "colab": {
          "base_uri": "https://localhost:8080/"
        },
        "id": "zKtvf2LHtCFE",
        "outputId": "6fb18108-33b0-4afd-f7b1-5e64026afcf4"
      },
      "execution_count": null,
      "outputs": [
        {
          "output_type": "stream",
          "name": "stdout",
          "text": [
            "<class 'pandas.core.frame.DataFrame'>\n",
            "RangeIndex: 9958 entries, 0 to 9957\n",
            "Data columns (total 7 columns):\n",
            " #   Column           Non-Null Count  Dtype \n",
            "---  ------           --------------  ----- \n",
            " 0   titulo           9958 non-null   object\n",
            " 1   autores          9958 non-null   object\n",
            " 2   abstract         9958 non-null   object\n",
            " 3   keywords         9958 non-null   object\n",
            " 4   categorias       9958 non-null   object\n",
            " 5   ano              9958 non-null   object\n",
            " 6   journal_revista  9958 non-null   object\n",
            "dtypes: object(7)\n",
            "memory usage: 544.7+ KB\n"
          ]
        }
      ]
    },
    {
      "cell_type": "code",
      "source": [
        "# Número de artigos por ano\n",
        "df_ano = df[df['ano'] != 'N/A']\n",
        "df_ano = df_ano['ano'].value_counts()\n",
        "df_ano"
      ],
      "metadata": {
        "colab": {
          "base_uri": "https://localhost:8080/",
          "height": 241
        },
        "id": "NrrwV7KbtSOn",
        "outputId": "dd14a816-f516-4c9b-bb6c-d3264c96b397"
      },
      "execution_count": null,
      "outputs": [
        {
          "output_type": "execute_result",
          "data": {
            "text/plain": [
              "ano\n",
              "2025    3168\n",
              "2024    2807\n",
              "2023    2054\n",
              "2022    1674\n",
              "Name: count, dtype: int64"
            ],
            "text/html": [
              "<div>\n",
              "<style scoped>\n",
              "    .dataframe tbody tr th:only-of-type {\n",
              "        vertical-align: middle;\n",
              "    }\n",
              "\n",
              "    .dataframe tbody tr th {\n",
              "        vertical-align: top;\n",
              "    }\n",
              "\n",
              "    .dataframe thead th {\n",
              "        text-align: right;\n",
              "    }\n",
              "</style>\n",
              "<table border=\"1\" class=\"dataframe\">\n",
              "  <thead>\n",
              "    <tr style=\"text-align: right;\">\n",
              "      <th></th>\n",
              "      <th>count</th>\n",
              "    </tr>\n",
              "    <tr>\n",
              "      <th>ano</th>\n",
              "      <th></th>\n",
              "    </tr>\n",
              "  </thead>\n",
              "  <tbody>\n",
              "    <tr>\n",
              "      <th>2025</th>\n",
              "      <td>3168</td>\n",
              "    </tr>\n",
              "    <tr>\n",
              "      <th>2024</th>\n",
              "      <td>2807</td>\n",
              "    </tr>\n",
              "    <tr>\n",
              "      <th>2023</th>\n",
              "      <td>2054</td>\n",
              "    </tr>\n",
              "    <tr>\n",
              "      <th>2022</th>\n",
              "      <td>1674</td>\n",
              "    </tr>\n",
              "  </tbody>\n",
              "</table>\n",
              "</div><br><label><b>dtype:</b> int64</label>"
            ]
          },
          "metadata": {},
          "execution_count": 55
        }
      ]
    },
    {
      "cell_type": "code",
      "source": [
        "# Por categorias\n",
        "df_exploded = (\n",
        "    df\n",
        "    .explode('categorias')\n",
        "    .reset_index(drop=True)\n",
        ")\n",
        "# Exclui-se a primeira categoria\n",
        "df_exploded['categorias'].value_counts().sort_values(ascending=False).head(11)"
      ],
      "metadata": {
        "colab": {
          "base_uri": "https://localhost:8080/",
          "height": 460
        },
        "id": "5JQuvig14y5U",
        "outputId": "d9f760ed-ac3f-47a3-b77c-d6f5580a0d9b"
      },
      "execution_count": null,
      "outputs": [
        {
          "output_type": "execute_result",
          "data": {
            "text/plain": [
              "categorias\n",
              "quant-ph              9052\n",
              "cs.LG                  697\n",
              "cs.ET                  544\n",
              "cond-mat.mes-hall      434\n",
              "cs.CR                  405\n",
              "cond-mat.str-el        375\n",
              "cs.AI                  347\n",
              "physics.chem-ph        259\n",
              "physics.optics         255\n",
              "cond-mat.stat-mech     255\n",
              "physics.atom-ph        255\n",
              "Name: count, dtype: int64"
            ],
            "text/html": [
              "<div>\n",
              "<style scoped>\n",
              "    .dataframe tbody tr th:only-of-type {\n",
              "        vertical-align: middle;\n",
              "    }\n",
              "\n",
              "    .dataframe tbody tr th {\n",
              "        vertical-align: top;\n",
              "    }\n",
              "\n",
              "    .dataframe thead th {\n",
              "        text-align: right;\n",
              "    }\n",
              "</style>\n",
              "<table border=\"1\" class=\"dataframe\">\n",
              "  <thead>\n",
              "    <tr style=\"text-align: right;\">\n",
              "      <th></th>\n",
              "      <th>count</th>\n",
              "    </tr>\n",
              "    <tr>\n",
              "      <th>categorias</th>\n",
              "      <th></th>\n",
              "    </tr>\n",
              "  </thead>\n",
              "  <tbody>\n",
              "    <tr>\n",
              "      <th>quant-ph</th>\n",
              "      <td>9052</td>\n",
              "    </tr>\n",
              "    <tr>\n",
              "      <th>cs.LG</th>\n",
              "      <td>697</td>\n",
              "    </tr>\n",
              "    <tr>\n",
              "      <th>cs.ET</th>\n",
              "      <td>544</td>\n",
              "    </tr>\n",
              "    <tr>\n",
              "      <th>cond-mat.mes-hall</th>\n",
              "      <td>434</td>\n",
              "    </tr>\n",
              "    <tr>\n",
              "      <th>cs.CR</th>\n",
              "      <td>405</td>\n",
              "    </tr>\n",
              "    <tr>\n",
              "      <th>cond-mat.str-el</th>\n",
              "      <td>375</td>\n",
              "    </tr>\n",
              "    <tr>\n",
              "      <th>cs.AI</th>\n",
              "      <td>347</td>\n",
              "    </tr>\n",
              "    <tr>\n",
              "      <th>physics.chem-ph</th>\n",
              "      <td>259</td>\n",
              "    </tr>\n",
              "    <tr>\n",
              "      <th>physics.optics</th>\n",
              "      <td>255</td>\n",
              "    </tr>\n",
              "    <tr>\n",
              "      <th>cond-mat.stat-mech</th>\n",
              "      <td>255</td>\n",
              "    </tr>\n",
              "    <tr>\n",
              "      <th>physics.atom-ph</th>\n",
              "      <td>255</td>\n",
              "    </tr>\n",
              "  </tbody>\n",
              "</table>\n",
              "</div><br><label><b>dtype:</b> int64</label>"
            ]
          },
          "metadata": {},
          "execution_count": 70
        }
      ]
    },
    {
      "cell_type": "code",
      "source": [
        "# Geração das palavras-chave para nuvem de palavra# Por categorias\n",
        "df_exploded = (\n",
        "    df\n",
        "    .explode('keywords')\n",
        "    .reset_index(drop=True)\n",
        ")\n",
        "# Exclui-se a primeira categoria\n",
        "df_exploded = df_exploded[(df_exploded['keywords'] != 'quantum computing') & (df['keywords'] != 'N/A')]\n",
        "df_exploded['keywords'] = df_exploded['keywords'].str.lower()\n",
        "\n",
        "#df_exploded['keywords'].to_csv('df_exploded.csv', index=False, header=False)\n",
        "df_filtered = df_exploded['keywords'].value_counts().sort_values(ascending=False)\n",
        "\n",
        "df_filtered.to_csv('df_exploded.csv', header=False)"
      ],
      "metadata": {
        "colab": {
          "base_uri": "https://localhost:8080/"
        },
        "id": "UMrl1SqJ-Hny",
        "outputId": "decb2990-6efc-474a-bc15-844817499ac1"
      },
      "execution_count": null,
      "outputs": [
        {
          "output_type": "stream",
          "name": "stdout",
          "text": [
            "7102\n"
          ]
        }
      ]
    },
    {
      "cell_type": "code",
      "source": [
        "# Revistas\n",
        "df_filtered = df[df['journal_revista'] != 'N/A'].copy()\n",
        "df_filtered['journal_revista'] = df_filtered['journal_revista'].str.lower().replace(r'\\(\\d{4}\\)', '', regex=True).str.strip()\n",
        "df_filtered['journal_revista'] = df_filtered['journal_revista'].str.replace(r'\\d{4}', '', regex=True).str.strip().copy()\n",
        "df_filtered['journal_revista'] = df_filtered['journal_revista'].str.replace(r'[\\d(),;]', '', regex=True).str.strip().copy()\n",
        "#df_filtered['journal_revista'].head(20)\n",
        "print(len(df_filtered['journal_revista']), len(df_filtered['journal_revista']) / len(df) * 100)\n",
        "df_filtered['journal_revista'].value_counts().sort_values(ascending=False).head(11\n",
        "                                                                                )"
      ],
      "metadata": {
        "colab": {
          "base_uri": "https://localhost:8080/",
          "height": 477
        },
        "id": "zjZBtnNyOUmz",
        "outputId": "7d8b6193-ffe5-4a91-ce6c-2250a13772a9"
      },
      "execution_count": null,
      "outputs": [
        {
          "output_type": "stream",
          "name": "stdout",
          "text": [
            "2878 29.657873042044518\n"
          ]
        },
        {
          "output_type": "execute_result",
          "data": {
            "text/plain": [
              "journal_revista\n",
              "quantum                  304\n",
              "phys. rev. a             243\n",
              "phys. rev. research      141\n",
              "phys. rev. lett.         128\n",
              "prx quantum              123\n",
              "phys. rev. applied        88\n",
              "quantum sci. technol.     58\n",
              "phys. rev. b              54\n",
              "physical review a         36\n",
              "phys. rev. d              28\n",
              "npj quantum inf           26\n",
              "Name: count, dtype: int64"
            ],
            "text/html": [
              "<div>\n",
              "<style scoped>\n",
              "    .dataframe tbody tr th:only-of-type {\n",
              "        vertical-align: middle;\n",
              "    }\n",
              "\n",
              "    .dataframe tbody tr th {\n",
              "        vertical-align: top;\n",
              "    }\n",
              "\n",
              "    .dataframe thead th {\n",
              "        text-align: right;\n",
              "    }\n",
              "</style>\n",
              "<table border=\"1\" class=\"dataframe\">\n",
              "  <thead>\n",
              "    <tr style=\"text-align: right;\">\n",
              "      <th></th>\n",
              "      <th>count</th>\n",
              "    </tr>\n",
              "    <tr>\n",
              "      <th>journal_revista</th>\n",
              "      <th></th>\n",
              "    </tr>\n",
              "  </thead>\n",
              "  <tbody>\n",
              "    <tr>\n",
              "      <th>quantum</th>\n",
              "      <td>304</td>\n",
              "    </tr>\n",
              "    <tr>\n",
              "      <th>phys. rev. a</th>\n",
              "      <td>243</td>\n",
              "    </tr>\n",
              "    <tr>\n",
              "      <th>phys. rev. research</th>\n",
              "      <td>141</td>\n",
              "    </tr>\n",
              "    <tr>\n",
              "      <th>phys. rev. lett.</th>\n",
              "      <td>128</td>\n",
              "    </tr>\n",
              "    <tr>\n",
              "      <th>prx quantum</th>\n",
              "      <td>123</td>\n",
              "    </tr>\n",
              "    <tr>\n",
              "      <th>phys. rev. applied</th>\n",
              "      <td>88</td>\n",
              "    </tr>\n",
              "    <tr>\n",
              "      <th>quantum sci. technol.</th>\n",
              "      <td>58</td>\n",
              "    </tr>\n",
              "    <tr>\n",
              "      <th>phys. rev. b</th>\n",
              "      <td>54</td>\n",
              "    </tr>\n",
              "    <tr>\n",
              "      <th>physical review a</th>\n",
              "      <td>36</td>\n",
              "    </tr>\n",
              "    <tr>\n",
              "      <th>phys. rev. d</th>\n",
              "      <td>28</td>\n",
              "    </tr>\n",
              "    <tr>\n",
              "      <th>npj quantum inf</th>\n",
              "      <td>26</td>\n",
              "    </tr>\n",
              "  </tbody>\n",
              "</table>\n",
              "</div><br><label><b>dtype:</b> int64</label>"
            ]
          },
          "metadata": {},
          "execution_count": 147
        }
      ]
    },
    {
      "cell_type": "code",
      "source": [
        "# Por categorias\n",
        "df_exploded = (\n",
        "    df\n",
        "    .explode('categorias')\n",
        "    .reset_index(drop=True)\n",
        ")\n",
        "\n",
        "df_exploded['categorias'].value_counts().sort_values(ascending=False).head(6)\n",
        "\n",
        "\n"
      ],
      "metadata": {
        "colab": {
          "base_uri": "https://localhost:8080/",
          "height": 303
        },
        "id": "VNbB9FH7OVdQ",
        "outputId": "8e325605-0883-4989-f1d4-909bc08962b3"
      },
      "execution_count": null,
      "outputs": [
        {
          "output_type": "execute_result",
          "data": {
            "text/plain": [
              "categorias\n",
              "quant-ph             9052\n",
              "cs.LG                 697\n",
              "cs.ET                 544\n",
              "cond-mat.mes-hall     434\n",
              "cs.CR                 405\n",
              "cond-mat.str-el       375\n",
              "Name: count, dtype: int64"
            ],
            "text/html": [
              "<div>\n",
              "<style scoped>\n",
              "    .dataframe tbody tr th:only-of-type {\n",
              "        vertical-align: middle;\n",
              "    }\n",
              "\n",
              "    .dataframe tbody tr th {\n",
              "        vertical-align: top;\n",
              "    }\n",
              "\n",
              "    .dataframe thead th {\n",
              "        text-align: right;\n",
              "    }\n",
              "</style>\n",
              "<table border=\"1\" class=\"dataframe\">\n",
              "  <thead>\n",
              "    <tr style=\"text-align: right;\">\n",
              "      <th></th>\n",
              "      <th>count</th>\n",
              "    </tr>\n",
              "    <tr>\n",
              "      <th>categorias</th>\n",
              "      <th></th>\n",
              "    </tr>\n",
              "  </thead>\n",
              "  <tbody>\n",
              "    <tr>\n",
              "      <th>quant-ph</th>\n",
              "      <td>9052</td>\n",
              "    </tr>\n",
              "    <tr>\n",
              "      <th>cs.LG</th>\n",
              "      <td>697</td>\n",
              "    </tr>\n",
              "    <tr>\n",
              "      <th>cs.ET</th>\n",
              "      <td>544</td>\n",
              "    </tr>\n",
              "    <tr>\n",
              "      <th>cond-mat.mes-hall</th>\n",
              "      <td>434</td>\n",
              "    </tr>\n",
              "    <tr>\n",
              "      <th>cs.CR</th>\n",
              "      <td>405</td>\n",
              "    </tr>\n",
              "    <tr>\n",
              "      <th>cond-mat.str-el</th>\n",
              "      <td>375</td>\n",
              "    </tr>\n",
              "  </tbody>\n",
              "</table>\n",
              "</div><br><label><b>dtype:</b> int64</label>"
            ]
          },
          "metadata": {},
          "execution_count": 152
        }
      ]
    },
    {
      "cell_type": "code",
      "source": [
        "# cs.LG, cs.ET, cond-mat.mes-hall, cs.CR, cond-mat.str-el\n",
        "\n",
        "df_exploded = df_exploded[df_exploded['categorias'].isin(['cs.LG', 'cs.ET', 'cond-mat.mes-hall', 'cs.CR', 'cond-mat.str-el'])]\n",
        "\n",
        "# Exclui-se a primeira categoria\n",
        "df_grouped = df_exploded.groupby(['categorias', 'ano']).size().reset_index(name='contagem')\n",
        "\n",
        "# Ordenar pelo ano e pela contagem (opcional)\n",
        "df_grouped = df_grouped.sort_values(by=['ano', 'contagem'], ascending=[True, False])\n",
        "\n",
        "df_grouped.to_csv('df_category.csv', header=False)"
      ],
      "metadata": {
        "id": "aJNrOkt8WeVA"
      },
      "execution_count": null,
      "outputs": []
    }
  ]
}